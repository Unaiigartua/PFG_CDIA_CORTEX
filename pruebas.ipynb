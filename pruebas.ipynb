{
 "cells": [
  {
   "cell_type": "code",
   "execution_count": 4,
   "metadata": {},
   "outputs": [],
   "source": [
    "from transformers import AutoModelForTokenClassification, AutoTokenizer\n",
    "import torch"
   ]
  },
  {
   "cell_type": "code",
   "execution_count": 19,
   "metadata": {},
   "outputs": [
    {
     "name": "stderr",
     "output_type": "stream",
     "text": [
      "Some weights of RobertaForTokenClassification were not initialized from the model checkpoint at ICB-UMA/ClinLinker-KB-P and are newly initialized: ['classifier.bias', 'classifier.weight']\n",
      "You should probably TRAIN this model on a down-stream task to be able to use it for predictions and inference.\n"
     ]
    }
   ],
   "source": [
    "# Cargar modelo y tokenizador\n",
    "model_name = \"ICB-UMA/ClinLinker-KB-P\"\n",
    "tokenizer = AutoTokenizer.from_pretrained(model_name)\n",
    "model = AutoModelForTokenClassification.from_pretrained(model_name)\n",
    "\n",
    "# Detectar si hay una GPU disponible y asignar el modelo\n",
    "device = torch.device(\"cuda\" if torch.cuda.is_available() else \"cpu\")\n",
    "model.to(device)\n",
    "\n",
    "# Crear el pipeline de NER usando la GPU si está disponible\n",
    "nlp_pipeline = pipeline(\"ner\", model=model, tokenizer=tokenizer, aggregation_strategy=\"simple\", device=0 if torch.cuda.is_available() else -1)\n"
   ]
  },
  {
   "cell_type": "code",
   "execution_count": null,
   "metadata": {},
   "outputs": [
    {
     "name": "stdout",
     "output_type": "stream",
     "text": [
      "Texto:  El, Etiqueta: LABEL_1, Puntaje: 0.53\n",
      "Texto:  paciente presenta, Etiqueta: LABEL_0, Puntaje: 0.53\n",
      "Texto:  síntomas, Etiqueta: LABEL_1, Puntaje: 0.52\n",
      "Texto:  de diabetes, Etiqueta: LABEL_0, Puntaje: 0.51\n",
      "Texto:  mellitus tipo 2 y, Etiqueta: LABEL_1, Puntaje: 0.53\n",
      "Texto:  nefropatía diabética, Etiqueta: LABEL_0, Puntaje: 0.51\n",
      "Texto: ., Etiqueta: LABEL_1, Puntaje: 0.55\n"
     ]
    }
   ],
   "source": [
    "text = \"El paciente presenta síntomas de diabetes mellitus tipo 2.\"\n",
    "\n",
    "# Obtener las entidades médicas detectadas\n",
    "entities = nlp_pipeline(text)\n",
    "\n",
    "# Mostrar resultados\n",
    "for entity in entities:\n",
    "    print(f\"Texto: {entity['word']}, Etiqueta: {entity['entity_group']}, Puntaje: {entity['score']:.2f}\")\n"
   ]
  },
  {
   "cell_type": "code",
   "execution_count": 21,
   "metadata": {},
   "outputs": [
    {
     "name": "stderr",
     "output_type": "stream",
     "text": [
      "Hardware accelerator e.g. GPU is available in the environment, but no `device` argument is passed to the `Pipeline` object. Model will be on CPU.\n"
     ]
    }
   ],
   "source": [
    "from transformers import AutoTokenizer, AutoModelForMaskedLM\n",
    "tokenizer = AutoTokenizer.from_pretrained(\"BSC-TeMU/roberta-base-biomedical-es\")\n",
    "model = AutoModelForMaskedLM.from_pretrained(\"BSC-TeMU/roberta-base-biomedical-es\")\n",
    "from transformers import pipeline\n",
    "unmasker = pipeline('fill-mask', model=\"BSC-TeMU/roberta-base-biomedical-es\")\n"
   ]
  },
  {
   "cell_type": "code",
   "execution_count": 22,
   "metadata": {},
   "outputs": [
    {
     "data": {
      "text/plain": [
       "[{'score': 0.9855039715766907,\n",
       "  'token': 3529,\n",
       "  'token_str': ' hipertensión',\n",
       "  'sequence': ' El único antecedente personal a reseñar era la hipertensión arterial.'},\n",
       " {'score': 0.003914060536772013,\n",
       "  'token': 1945,\n",
       "  'token_str': ' diabetes',\n",
       "  'sequence': ' El único antecedente personal a reseñar era la diabetes arterial.'},\n",
       " {'score': 0.0024846442975103855,\n",
       "  'token': 11483,\n",
       "  'token_str': ' hipotensión',\n",
       "  'sequence': ' El único antecedente personal a reseñar era la hipotensión arterial.'},\n",
       " {'score': 0.0023484532721340656,\n",
       "  'token': 12238,\n",
       "  'token_str': ' Hipertensión',\n",
       "  'sequence': ' El único antecedente personal a reseñar era la Hipertensión arterial.'},\n",
       " {'score': 0.0008009266457520425,\n",
       "  'token': 2267,\n",
       "  'token_str': ' presión',\n",
       "  'sequence': ' El único antecedente personal a reseñar era la presión arterial.'}]"
      ]
     },
     "execution_count": 22,
     "metadata": {},
     "output_type": "execute_result"
    }
   ],
   "source": [
    "unmasker(\"El único antecedente personal a reseñar era la <mask> arterial.\")"
   ]
  },
  {
   "cell_type": "code",
   "execution_count": 23,
   "metadata": {},
   "outputs": [
    {
     "data": {
      "text/plain": [
       "[{'score': 0.9982359409332275,\n",
       "  'token': 1945,\n",
       "  'token_str': ' diabetes',\n",
       "  'sequence': ' El paciente presenta síntomas de diabetes mellitus tipo 2.'},\n",
       " {'score': 0.0014360434142872691,\n",
       "  'token': 6423,\n",
       "  'token_str': ' Diabetes',\n",
       "  'sequence': ' El paciente presenta síntomas de Diabetes mellitus tipo 2.'},\n",
       " {'score': 6.710708839818835e-05,\n",
       "  'token': 6770,\n",
       "  'token_str': ' DM',\n",
       "  'sequence': ' El paciente presenta síntomas de DM mellitus tipo 2.'},\n",
       " {'score': 4.553172766463831e-05,\n",
       "  'token': 30586,\n",
       "  'token_str': 'diabetes',\n",
       "  'sequence': ' El paciente presenta síntomas dediabetes mellitus tipo 2.'},\n",
       " {'score': 2.2063168216845952e-05,\n",
       "  'token': 796,\n",
       "  'token_str': ' enfermedad',\n",
       "  'sequence': ' El paciente presenta síntomas de enfermedad mellitus tipo 2.'}]"
      ]
     },
     "execution_count": 23,
     "metadata": {},
     "output_type": "execute_result"
    }
   ],
   "source": [
    "unmasker(\"El paciente presenta síntomas de <mask> mellitus tipo 2.\")"
   ]
  },
  {
   "cell_type": "markdown",
   "metadata": {},
   "source": []
  },
  {
   "cell_type": "markdown",
   "metadata": {},
   "source": []
  },
  {
   "cell_type": "markdown",
   "metadata": {},
   "source": []
  },
  {
   "cell_type": "markdown",
   "metadata": {},
   "source": []
  },
  {
   "cell_type": "code",
   "execution_count": 27,
   "metadata": {},
   "outputs": [],
   "source": [
    "def merge_consecutive_entities(entities, text):\n",
    "    entities = sorted(entities, key=lambda x: x['start'])\n",
    "    merged_entities = []\n",
    "    current_entity = None\n",
    "\n",
    "    for entity in entities:\n",
    "        if current_entity is None:\n",
    "            current_entity = entity\n",
    "        elif (\n",
    "            entity['entity_group'] == current_entity['entity_group'] and\n",
    "            (entity['start'] <= current_entity['end'])\n",
    "        ):\n",
    "            # Merge based on start and end positions in the text\n",
    "            current_entity['end'] = max(current_entity['end'], entity['end'])\n",
    "            current_entity['word'] = text[current_entity['start']:current_entity['end']]\n",
    "            current_entity['score'] = (current_entity['score'] + entity['score']) / 2  \n",
    "        else:\n",
    "            merged_entities.append(current_entity)\n",
    "            current_entity = entity\n",
    "    if current_entity:\n",
    "        merged_entities.append(current_entity)\n",
    "\n",
    "    return merged_entities\n"
   ]
  },
  {
   "cell_type": "code",
   "execution_count": 24,
   "metadata": {},
   "outputs": [
    {
     "name": "stderr",
     "output_type": "stream",
     "text": [
      "Hardware accelerator e.g. GPU is available in the environment, but no `device` argument is passed to the `Pipeline` object. Model will be on CPU.\n"
     ]
    }
   ],
   "source": [
    "from transformers import pipeline\n",
    "\n",
    "# Load the model\n",
    "model_path = \"Helios9/BIOMed_NER\"\n",
    "pipe = pipeline(\n",
    "    task=\"token-classification\",\n",
    "    model=model_path,\n",
    "    tokenizer=model_path,\n",
    "    aggregation_strategy=\"simple\"\n",
    ")\n",
    "\n"
   ]
  },
  {
   "cell_type": "code",
   "execution_count": null,
   "metadata": {},
   "outputs": [
    {
     "name": "stdout",
     "output_type": "stream",
     "text": [
      "[{'entity_group': 'Biological_structure', 'score': 0.9201284646987915, 'word': ' inner lower quadrant of breast', 'start': 25, 'end': 56}, {'entity_group': 'Therapeutic_procedure', 'score': 0.514445, 'word': 'lumpeoctomy', 'start': 72, 'end': 84}]\n"
     ]
    }
   ],
   "source": [
    "text = (\"patients diagnosed in the inner lower quadrant of breast that went under lumpeoctomy\")\n",
    "result = pipe(text)\n",
    "final_result=merge_consecutive_entities(result,text)\n",
    "print(final_result)"
   ]
  },
  {
   "cell_type": "code",
   "execution_count": 6,
   "metadata": {},
   "outputs": [],
   "source": [
    "from urllib.request import urlopen, Request\n",
    "from urllib.parse import quote\n",
    "import json\n",
    "\n",
    "baseUrl = 'https://snowstorm-training.snomedtools.org/snowstorm/snomed-ct'\n",
    "edition = 'MAIN'\n",
    "\n",
    "# IMPORTANT! You must update this user agent to avoid having your IP banned for 24 hours.\n",
    "# Replace with a contact email so that we can contact you if your script causes excessive load on the public server\n",
    "# For example: user_agent = 'example@example.com'\n",
    "user_agent = 'unaiigartua2@gmail.com'"
   ]
  },
  {
   "cell_type": "code",
   "execution_count": 48,
   "metadata": {},
   "outputs": [],
   "source": [
    "def urlopen_with_header(url):\n",
    "    # adds User-Agent header otherwise urlopen on its own gets an IP blocked response\n",
    "    req = Request(url)\n",
    "    req.add_header('User-Agent', user_agent)\n",
    "    return urlopen(req)\n",
    "\n",
    "\n",
    "    \n",
    " #Prints snomed code for searched disease or symptom\n",
    "def getSnomedCodeSimilar(searchTerm):\n",
    "    #url = baseUrl + '/browser/' + edition + '/descriptions?term=' + quote(searchTerm) + '&conceptActive=true&groupByConcept=false&searchMode=STANDARD&offset=0&limit=50'\n",
    "    url = 'https://snowstorm-training.snomedtools.org/snowstorm/snomed-ct/browser/MAIN/descriptions?term=' + quote(searchTerm) + '&active=true&conceptActive=true&groupByConcept=false&searchMode=STANDARD&offset=0&limit=50'\n",
    "    print(url)\n",
    "    response = urlopen_with_header(url).read()\n",
    "    data = json.loads(response.decode('utf-8'))\n",
    "\n",
    "    # for term in data['items']:\n",
    "    #   print(term)  \n",
    "    #   if searchTerm in term['term']:\n",
    "    #     print(\"{} : {}\".format(term['term'], term['concept']['conceptId']))\n",
    "\n",
    "\n",
    "    diccionario = []\n",
    "    for term in data['items']:\n",
    "        print(term)\n",
    "        diccionario.append([term['term'], term['concept']['conceptId']])\n",
    "    \n",
    "    return diccionario\n",
    "\n",
    "    \n",
    "\n",
    " "
   ]
  },
  {
   "cell_type": "code",
   "execution_count": 50,
   "metadata": {},
   "outputs": [
    {
     "name": "stdout",
     "output_type": "stream",
     "text": [
      "https://snowstorm-training.snomedtools.org/snowstorm/snomed-ct/browser/MAIN/descriptions?term=lumpectomy&active=true&conceptActive=true&groupByConcept=false&searchMode=STANDARD&offset=0&limit=50\n",
      "{'term': 'Lumpectomy', 'active': True, 'languageCode': 'en', 'module': '900000000000207008', 'concept': {'conceptId': '392022002', 'active': True, 'definitionStatus': 'FULLY_DEFINED', 'moduleId': '900000000000207008', 'fsn': {'term': 'Excision of mass (procedure)', 'lang': 'en'}, 'pt': {'term': 'Excision of mass', 'lang': 'en'}, 'id': '392022002'}}\n",
      "{'term': 'Breast lumpectomy', 'active': True, 'languageCode': 'en', 'module': '900000000000207008', 'concept': {'conceptId': '392021009', 'active': True, 'definitionStatus': 'FULLY_DEFINED', 'moduleId': '900000000000207008', 'fsn': {'term': 'Lumpectomy of breast (procedure)', 'lang': 'en'}, 'pt': {'term': 'Lumpectomy of breast', 'lang': 'en'}, 'id': '392021009'}}\n",
      "{'term': 'Lumpectomy of breast', 'active': True, 'languageCode': 'en', 'module': '900000000000207008', 'concept': {'conceptId': '392021009', 'active': True, 'definitionStatus': 'FULLY_DEFINED', 'moduleId': '900000000000207008', 'fsn': {'term': 'Lumpectomy of breast (procedure)', 'lang': 'en'}, 'pt': {'term': 'Lumpectomy of breast', 'lang': 'en'}, 'id': '392021009'}}\n",
      "{'term': 'Lumpectomy breast sample', 'active': True, 'languageCode': 'en', 'module': '900000000000207008', 'concept': {'conceptId': '309546004', 'active': True, 'definitionStatus': 'FULLY_DEFINED', 'moduleId': '900000000000207008', 'fsn': {'term': 'Lumpectomy breast sample (specimen)', 'lang': 'en'}, 'pt': {'term': 'Lumpectomy breast sample', 'lang': 'en'}, 'id': '309546004'}}\n",
      "{'term': 'Lumpectomy of left breast', 'active': True, 'languageCode': 'en', 'module': '900000000000207008', 'concept': {'conceptId': '735085002', 'active': True, 'definitionStatus': 'FULLY_DEFINED', 'moduleId': '900000000000207008', 'fsn': {'term': 'Lumpectomy of left breast (procedure)', 'lang': 'en'}, 'pt': {'term': 'Lumpectomy of left breast', 'lang': 'en'}, 'id': '735085002'}}\n",
      "{'term': 'Lumpectomy of right breast', 'active': True, 'languageCode': 'en', 'module': '900000000000207008', 'concept': {'conceptId': '735086001', 'active': True, 'definitionStatus': 'FULLY_DEFINED', 'moduleId': '900000000000207008', 'fsn': {'term': 'Lumpectomy of right breast (procedure)', 'lang': 'en'}, 'pt': {'term': 'Lumpectomy of right breast', 'lang': 'en'}, 'id': '735086001'}}\n",
      "{'term': 'Lumpectomy of breast (procedure)', 'active': True, 'languageCode': 'en', 'module': '900000000000207008', 'concept': {'conceptId': '392021009', 'active': True, 'definitionStatus': 'FULLY_DEFINED', 'moduleId': '900000000000207008', 'fsn': {'term': 'Lumpectomy of breast (procedure)', 'lang': 'en'}, 'pt': {'term': 'Lumpectomy of breast', 'lang': 'en'}, 'id': '392021009'}}\n",
      "{'term': 'Lumpectomy breast sample (specimen)', 'active': True, 'languageCode': 'en', 'module': '900000000000207008', 'concept': {'conceptId': '309546004', 'active': True, 'definitionStatus': 'FULLY_DEFINED', 'moduleId': '900000000000207008', 'fsn': {'term': 'Lumpectomy breast sample (specimen)', 'lang': 'en'}, 'pt': {'term': 'Lumpectomy breast sample', 'lang': 'en'}, 'id': '309546004'}}\n",
      "{'term': 'Lumpectomy of left breast (procedure)', 'active': True, 'languageCode': 'en', 'module': '900000000000207008', 'concept': {'conceptId': '735085002', 'active': True, 'definitionStatus': 'FULLY_DEFINED', 'moduleId': '900000000000207008', 'fsn': {'term': 'Lumpectomy of left breast (procedure)', 'lang': 'en'}, 'pt': {'term': 'Lumpectomy of left breast', 'lang': 'en'}, 'id': '735085002'}}\n",
      "{'term': 'Lumpectomy of right breast (procedure)', 'active': True, 'languageCode': 'en', 'module': '900000000000207008', 'concept': {'conceptId': '735086001', 'active': True, 'definitionStatus': 'FULLY_DEFINED', 'moduleId': '900000000000207008', 'fsn': {'term': 'Lumpectomy of right breast (procedure)', 'lang': 'en'}, 'pt': {'term': 'Lumpectomy of right breast', 'lang': 'en'}, 'id': '735086001'}}\n",
      "{'term': 'A treatment approach that utilizes a localized form of radiation that treats only the lumpectomy bed plus a 1-2 cm margin.', 'active': True, 'languageCode': 'en', 'module': '900000000000207008', 'concept': {'conceptId': '22741000087109', 'active': True, 'definitionStatus': 'PRIMITIVE', 'moduleId': '900000000000207008', 'fsn': {'term': 'Accelerated partial breast irradiation (regime/therapy)', 'lang': 'en'}, 'pt': {'term': 'Accelerated partial breast irradiation', 'lang': 'en'}, 'id': '22741000087109'}}\n",
      "{'term': 'A treatment approach that utilises a localised form of radiation that treats only the lumpectomy bed plus a 1-2 cm margin.', 'active': True, 'languageCode': 'en', 'module': '900000000000207008', 'concept': {'conceptId': '22741000087109', 'active': True, 'definitionStatus': 'PRIMITIVE', 'moduleId': '900000000000207008', 'fsn': {'term': 'Accelerated partial breast irradiation (regime/therapy)', 'lang': 'en'}, 'pt': {'term': 'Accelerated partial breast irradiation', 'lang': 'en'}, 'id': '22741000087109'}}\n"
     ]
    }
   ],
   "source": [
    "terms = getSnomedCodeSimilar('lumpectomy')"
   ]
  },
  {
   "cell_type": "code",
   "execution_count": 38,
   "metadata": {},
   "outputs": [
    {
     "name": "stdout",
     "output_type": "stream",
     "text": [
      "[['Lumpectomy', '392022002'], ['Breast lumpectomy', '392021009'], ['Lumpectomy of breast', '392021009'], ['Lumpectomy breast sample', '309546004'], ['Lumpectomy of left breast', '735085002'], ['Lumpectomy of right breast', '735086001'], ['Lumpectomy of breast (procedure)', '392021009'], ['Lumpectomy breast sample (specimen)', '309546004'], ['Lumpectomy of left breast (procedure)', '735085002'], ['Lumpectomy of right breast (procedure)', '735086001'], ['A treatment approach that utilizes a localized form of radiation that treats only the lumpectomy bed plus a 1-2 cm margin.', '22741000087109'], ['A treatment approach that utilises a localised form of radiation that treats only the lumpectomy bed plus a 1-2 cm margin.', '22741000087109']]\n"
     ]
    }
   ],
   "source": [
    "print(terms)"
   ]
  },
  {
   "cell_type": "code",
   "execution_count": 39,
   "metadata": {},
   "outputs": [],
   "source": [
    "from transformers import AutoTokenizer, AutoModel\n",
    "import torch\n",
    "from sklearn.metrics.pairwise import cosine_similarity\n",
    "\n",
    "\n",
    "model_name = \"dmis-lab/biobert-v1.1\"\n",
    "tokenizer = AutoTokenizer.from_pretrained(model_name)\n",
    "model = AutoModel.from_pretrained(model_name)\n",
    "\n",
    "\n",
    "def get_mean_embedding(text):\n",
    "    inputs = tokenizer(text, return_tensors=\"pt\", truncation=True, padding=True)\n",
    "    with torch.no_grad():\n",
    "        outputs = model(**inputs)\n",
    "    embeddings = outputs.last_hidden_state\n",
    "    attention_mask = inputs[\"attention_mask\"]\n",
    "    mask_expanded = attention_mask.unsqueeze(-1).expand(embeddings.size()).float()\n",
    "    masked_embeddings = embeddings * mask_expanded\n",
    "    summed = torch.sum(masked_embeddings, dim=1)\n",
    "    counts = torch.clamp(mask_expanded.sum(dim=1), min=1e-9)\n",
    "    mean_pooled = summed / counts\n",
    "    return mean_pooled\n",
    "\n"
   ]
  },
  {
   "cell_type": "code",
   "execution_count": null,
   "metadata": {},
   "outputs": [
    {
     "name": "stdout",
     "output_type": "stream",
     "text": [
      "Cosine Similarity: 0.9529097080230713\n"
     ]
    }
   ],
   "source": [
    "# Ejemplo de textos\n",
    "text1 = \"inner lower quadrant of breast\"\n",
    "text2 = \"Entire lower inner quadrant of breast\"\n",
    "\n",
    "emb1 = get_mean_embedding(text1)\n",
    "emb2 = get_mean_embedding(text2)\n",
    "\n",
    "similarity = cosine_similarity(emb1.numpy(), emb2.numpy())\n",
    "print(f\"Cosine Similarity: {similarity[0][0]}\")\n"
   ]
  },
  {
   "cell_type": "code",
   "execution_count": 41,
   "metadata": {},
   "outputs": [
    {
     "name": "stdout",
     "output_type": "stream",
     "text": [
      "[['Lumpectomy', '392022002', 0.9178743], ['Breast lumpectomy', '392021009', 0.91275537], ['Lumpectomy of breast', '392021009', 0.90502787], ['Lumpectomy breast sample', '309546004', 0.88890713], ['Lumpectomy of left breast', '735085002', 0.8876601], ['Lumpectomy of right breast', '735086001', 0.8845887], ['Lumpectomy of breast (procedure)', '392021009', 0.8816737], ['Lumpectomy breast sample (specimen)', '309546004', 0.8757781], ['Lumpectomy of left breast (procedure)', '735085002', 0.88002205], ['Lumpectomy of right breast (procedure)', '735086001', 0.8807367], ['A treatment approach that utilizes a localized form of radiation that treats only the lumpectomy bed plus a 1-2 cm margin.', '22741000087109', 0.8336814], ['A treatment approach that utilises a localised form of radiation that treats only the lumpectomy bed plus a 1-2 cm margin.', '22741000087109', 0.81605613]]\n"
     ]
    }
   ],
   "source": [
    "emb1 = get_mean_embedding(\"lumpectomy\")\n",
    "\n",
    "for term in terms:\n",
    "    emb2 = get_mean_embedding(term[0])\n",
    "    similarity = cosine_similarity(emb1.numpy(), emb2.numpy())\n",
    "    # añadir la similaridad al diccionario\n",
    "    term.append(similarity[0][0])\n",
    "\n",
    "print(terms)\n",
    "    "
   ]
  },
  {
   "cell_type": "code",
   "execution_count": 42,
   "metadata": {},
   "outputs": [
    {
     "name": "stdout",
     "output_type": "stream",
     "text": [
      "[['Lumpectomy', '392022002', 0.9178743], ['Breast lumpectomy', '392021009', 0.91275537], ['Lumpectomy of breast', '392021009', 0.90502787], ['Lumpectomy breast sample', '309546004', 0.88890713], ['Lumpectomy of left breast', '735085002', 0.8876601], ['Lumpectomy of right breast', '735086001', 0.8845887], ['Lumpectomy of breast (procedure)', '392021009', 0.8816737], ['Lumpectomy of right breast (procedure)', '735086001', 0.8807367], ['Lumpectomy of left breast (procedure)', '735085002', 0.88002205], ['Lumpectomy breast sample (specimen)', '309546004', 0.8757781], ['A treatment approach that utilizes a localized form of radiation that treats only the lumpectomy bed plus a 1-2 cm margin.', '22741000087109', 0.8336814], ['A treatment approach that utilises a localised form of radiation that treats only the lumpectomy bed plus a 1-2 cm margin.', '22741000087109', 0.81605613]]\n"
     ]
    }
   ],
   "source": [
    "order_terms = sorted(terms, key=lambda x: x[2], reverse=True)\n",
    "print(order_terms)\n"
   ]
  },
  {
   "cell_type": "code",
   "execution_count": 43,
   "metadata": {},
   "outputs": [],
   "source": [
    "import matplotlib.pyplot as plt"
   ]
  },
  {
   "cell_type": "code",
   "execution_count": 44,
   "metadata": {},
   "outputs": [
    {
     "name": "stderr",
     "output_type": "stream",
     "text": [
      "/var/folders/ws/jlf7zj8x60lfl1vprb7gt6lr0000gn/T/ipykernel_1503/3786119875.py:10: UserWarning: Tight layout not applied. The bottom and top margins cannot be made large enough to accommodate all Axes decorations.\n",
      "  plt.tight_layout()\n"
     ]
    },
    {
     "data": {
      "image/png": "[encoded data removed]",
      "text/plain": [
       "<Figure size 1200x600 with 1 Axes>"
      ]
     },
     "metadata": {},
     "output_type": "display_data"
    }
   ],
   "source": [
    "nombres = [item[0] for item in order_terms]\n",
    "valores = [item[2] for item in order_terms]\n",
    "\n",
    "plt.figure(figsize=(12, 6))\n",
    "plt.plot(valores, marker='o', linestyle='-')\n",
    "plt.xticks(range(len(nombres)), nombres, rotation=90)\n",
    "plt.xlabel(\"Términos\")\n",
    "plt.ylabel(\"Similaridad\")\n",
    "plt.title(\"Evolución de la Similaridad\")\n",
    "plt.tight_layout()\n",
    "plt.show()"
   ]
  },
  {
   "cell_type": "code",
   "execution_count": null,
   "metadata": {},
   "outputs": [],
   "source": []
  },
  {
   "cell_type": "code",
   "execution_count": null,
   "metadata": {},
   "outputs": [],
   "source": []
  },
  {
   "cell_type": "code",
   "execution_count": 1,
   "metadata": {},
   "outputs": [],
   "source": [
    "import requests"
   ]
  },
  {
   "cell_type": "code",
   "execution_count": 9,
   "metadata": {},
   "outputs": [
    {
     "data": {
      "text/plain": [
       "{'concept_id': 3524377,\n",
       " 'concept_name': '10g monofilament sensation plantar aspect of little toe right foot absent',\n",
       " 'domain_id': 'Observation',\n",
       " 'vocabulary_id': 'SNOMED',\n",
       " 'standard_concept': 'N',\n",
       " 'concept_class_id': 'Undefined'}"
      ]
     },
     "execution_count": 9,
     "metadata": {},
     "output_type": "execute_result"
    }
   ],
   "source": [
    "import requests\n",
    "\n",
    "def snomed_to_omop_concept(snomed_code: str):\n",
    "    \"\"\"\n",
    "    Dado un código SNOMED, devuelve su concepto equivalente en OMOP.\n",
    "    \"\"\"\n",
    "    url = \"https://api.ohdsi.org/WebAPI/vocabulary/search\"\n",
    "    headers = {\"Content-Type\": \"application/json\"}\n",
    "    payload = {\n",
    "        \"QUERY\": snomed_code,\n",
    "        \"VOCABULARY_ID\": [\"SNOMED\"]\n",
    "    }\n",
    "\n",
    "    response = requests.post(url, json=payload, headers=headers)\n",
    "    if response.status_code != 200:\n",
    "        raise Exception(f\"Error en la request: {response.status_code} - {response.text}\")\n",
    "\n",
    "    results = response.json()\n",
    "    if not results:\n",
    "        print(\"❌ No se encontró ningún resultado.\")\n",
    "        return None\n",
    "\n",
    "    first = results[0]\n",
    "    return {\n",
    "        \"concept_id\": first[\"CONCEPT_ID\"],\n",
    "        \"concept_name\": first[\"CONCEPT_NAME\"],\n",
    "        \"domain_id\": first[\"DOMAIN_ID\"],\n",
    "        \"vocabulary_id\": first[\"VOCABULARY_ID\"],\n",
    "        \"standard_concept\": first[\"STANDARD_CONCEPT\"],\n",
    "        \"concept_class_id\": first[\"CONCEPT_CLASS_ID\"]\n",
    "    }\n",
    "\n",
    "# 🔎 Prueba con un SNOMED code\n",
    "snomed_code = \"19100000\"\n",
    "concept_info = snomed_to_omop_concept(snomed_code)\n",
    "concept_info\n"
   ]
  },
  {
   "cell_type": "code",
   "execution_count": 8,
   "metadata": {},
   "outputs": [
    {
     "name": "stdout",
     "output_type": "stream",
     "text": [
      "SNOMED: 19100000\n",
      "ATHENA conceptId: 3524377\n",
      "Concept name: 10g monofilament sensation plantar aspect of little toe right foot absent\n",
      "Domain: Observation\n"
     ]
    },
    {
     "data": {
      "text/plain": [
       "{'CONCEPT_ID': 3524377,\n",
       " 'CONCEPT_NAME': '10g monofilament sensation plantar aspect of little toe right foot absent',\n",
       " 'STANDARD_CONCEPT': 'N',\n",
       " 'STANDARD_CONCEPT_CAPTION': 'Non-Standard',\n",
       " 'INVALID_REASON': 'U',\n",
       " 'INVALID_REASON_CAPTION': 'Invalid',\n",
       " 'CONCEPT_CODE': '216191000000104',\n",
       " 'DOMAIN_ID': 'Observation',\n",
       " 'VOCABULARY_ID': 'SNOMED',\n",
       " 'CONCEPT_CLASS_ID': 'Undefined',\n",
       " 'VALID_START_DATE': 1143849600000,\n",
       " 'VALID_END_DATE': 1143849600000}"
      ]
     },
     "execution_count": 8,
     "metadata": {},
     "output_type": "execute_result"
    }
   ],
   "source": [
    "snomed_code = \"19100000\"\n",
    "snomed_to_athena_omop(snomed_code)"
   ]
  },
  {
   "cell_type": "code",
   "execution_count": null,
   "metadata": {},
   "outputs": [],
   "source": []
  },
  {
   "cell_type": "code",
   "execution_count": null,
   "metadata": {},
   "outputs": [],
   "source": []
  },
  {
   "cell_type": "code",
   "execution_count": null,
   "metadata": {},
   "outputs": [],
   "source": []
  },
  {
   "cell_type": "code",
   "execution_count": 10,
   "metadata": {},
   "outputs": [
    {
     "name": "stderr",
     "output_type": "stream",
     "text": [
      "/var/folders/ws/jlf7zj8x60lfl1vprb7gt6lr0000gn/T/ipykernel_68009/2683261114.py:5: DtypeWarning: Columns (5,6) have mixed types. Specify dtype option on import or set low_memory=False.\n",
      "  df = pd.read_csv(\"CONCEPT.csv\", sep='\\t', usecols=[\n"
     ]
    }
   ],
   "source": [
    "import pandas as pd\n",
    "import sqlite3\n",
    "\n",
    "# Cargar solo las columnas necesarias\n",
    "df = pd.read_csv(\"CONCEPT.csv\", sep='\\t', usecols=[\n",
    "    \"concept_id\", \"concept_name\", \"domain_id\", \"vocabulary_id\",\n",
    "    \"concept_class_id\", \"standard_concept\", \"concept_code\"\n",
    "])\n",
    "\n",
    "# Crear conexión SQLite y guardar\n",
    "conn = sqlite3.connect(\"omop_snomed.db\")\n",
    "df.to_sql(\"concepts\", conn, if_exists=\"replace\", index=False)\n",
    "\n",
    "# Crear índices para búsquedas rápidas\n",
    "conn.execute(\"CREATE INDEX IF NOT EXISTS idx_code ON concepts(concept_code);\")\n",
    "conn.execute(\"CREATE INDEX IF NOT EXISTS idx_name ON concepts(concept_name);\")\n",
    "conn.commit()\n"
   ]
  },
  {
   "cell_type": "code",
   "execution_count": 11,
   "metadata": {},
   "outputs": [],
   "source": [
    "def find_concept_by_code(code: str, conn):\n",
    "    query = \"\"\"\n",
    "    SELECT concept_id, concept_name, domain_id, vocabulary_id, standard_concept\n",
    "    FROM concepts\n",
    "    WHERE concept_code = ?\n",
    "    \"\"\"\n",
    "    return pd.read_sql_query(query, conn, params=(code,))"
   ]
  },
  {
   "cell_type": "code",
   "execution_count": 14,
   "metadata": {},
   "outputs": [
    {
     "data": {
      "text/html": [
       "<div>\n",
       "<style scoped>\n",
       "    .dataframe tbody tr th:only-of-type {\n",
       "        vertical-align: middle;\n",
       "    }\n",
       "\n",
       "    .dataframe tbody tr th {\n",
       "        vertical-align: top;\n",
       "    }\n",
       "\n",
       "    .dataframe thead th {\n",
       "        text-align: right;\n",
       "    }\n",
       "</style>\n",
       "<table border=\"1\" class=\"dataframe\">\n",
       "  <thead>\n",
       "    <tr style=\"text-align: right;\">\n",
       "      <th></th>\n",
       "      <th>concept_id</th>\n",
       "      <th>concept_name</th>\n",
       "      <th>domain_id</th>\n",
       "      <th>vocabulary_id</th>\n",
       "      <th>standard_concept</th>\n",
       "    </tr>\n",
       "  </thead>\n",
       "  <tbody>\n",
       "    <tr>\n",
       "      <th>0</th>\n",
       "      <td>4213045</td>\n",
       "      <td>Lumpectomy of breast</td>\n",
       "      <td>Procedure</td>\n",
       "      <td>SNOMED</td>\n",
       "      <td>S</td>\n",
       "    </tr>\n",
       "  </tbody>\n",
       "</table>\n",
       "</div>"
      ],
      "text/plain": [
       "   concept_id          concept_name  domain_id vocabulary_id standard_concept\n",
       "0     4213045  Lumpectomy of breast  Procedure        SNOMED                S"
      ]
     },
     "execution_count": 14,
     "metadata": {},
     "output_type": "execute_result"
    }
   ],
   "source": [
    "# Conexión a la base\n",
    "conn = sqlite3.connect(\"omop_snomed.db\")\n",
    "\n",
    "# Buscar por código SNOMED\n",
    "find_concept_by_code(\"392021009\", conn)"
   ]
  },
  {
   "cell_type": "code",
   "execution_count": null,
   "metadata": {},
   "outputs": [],
   "source": []
  },
  {
   "cell_type": "code",
   "execution_count": null,
   "metadata": {},
   "outputs": [],
   "source": []
  },
  {
   "cell_type": "code",
   "execution_count": 16,
   "metadata": {},
   "outputs": [],
   "source": [
    "import pandas as pd\n",
    "\n",
    "syn_df = pd.read_csv(\"CONCEPT_SYNONYM.csv\", sep=\"\\t\", usecols=[\"concept_id\", \"concept_synonym_name\"])\n",
    "syn_df.drop_duplicates(inplace=True)  # Por si acaso\n"
   ]
  },
  {
   "cell_type": "code",
   "execution_count": 17,
   "metadata": {},
   "outputs": [
    {
     "name": "stderr",
     "output_type": "stream",
     "text": [
      "/Users/unaiigartua/anaconda3/envs/TFG_CDIA/lib/python3.12/site-packages/sentence_transformers/cross_encoder/CrossEncoder.py:11: TqdmWarning: IProgress not found. Please update jupyter and ipywidgets. See https://ipywidgets.readthedocs.io/en/stable/user_install.html\n",
      "  from tqdm.autonotebook import tqdm, trange\n",
      "Batches:   0%|          | 12/57951 [02:13<179:28:53, 11.15s/it]\n"
     ]
    },
    {
     "ename": "KeyboardInterrupt",
     "evalue": "",
     "output_type": "error",
     "traceback": [
      "\u001b[31m---------------------------------------------------------------------------\u001b[39m",
      "\u001b[31mKeyboardInterrupt\u001b[39m                         Traceback (most recent call last)",
      "\u001b[36mCell\u001b[39m\u001b[36m \u001b[39m\u001b[32mIn[17]\u001b[39m\u001b[32m, line 7\u001b[39m\n\u001b[32m      5\u001b[39m \u001b[38;5;66;03m# Embeddings de los sinónimos\u001b[39;00m\n\u001b[32m      6\u001b[39m texts = syn_df[\u001b[33m\"\u001b[39m\u001b[33mconcept_synonym_name\u001b[39m\u001b[33m\"\u001b[39m].tolist()\n\u001b[32m----> \u001b[39m\u001b[32m7\u001b[39m embeddings = \u001b[43mmodel\u001b[49m\u001b[43m.\u001b[49m\u001b[43mencode\u001b[49m\u001b[43m(\u001b[49m\u001b[43mtexts\u001b[49m\u001b[43m,\u001b[49m\u001b[43m \u001b[49m\u001b[43mshow_progress_bar\u001b[49m\u001b[43m=\u001b[49m\u001b[38;5;28;43;01mTrue\u001b[39;49;00m\u001b[43m)\u001b[49m\n",
      "\u001b[36mFile \u001b[39m\u001b[32m~/anaconda3/envs/TFG_CDIA/lib/python3.12/site-packages/sentence_transformers/SentenceTransformer.py:546\u001b[39m, in \u001b[36mSentenceTransformer.encode\u001b[39m\u001b[34m(self, sentences, prompt_name, prompt, batch_size, show_progress_bar, output_value, precision, convert_to_numpy, convert_to_tensor, device, normalize_embeddings)\u001b[39m\n\u001b[32m    544\u001b[39m             \u001b[38;5;66;03m# fixes for #522 and #487 to avoid oom problems on gpu with large datasets\u001b[39;00m\n\u001b[32m    545\u001b[39m             \u001b[38;5;28;01mif\u001b[39;00m convert_to_numpy:\n\u001b[32m--> \u001b[39m\u001b[32m546\u001b[39m                 embeddings = \u001b[43membeddings\u001b[49m\u001b[43m.\u001b[49m\u001b[43mcpu\u001b[49m\u001b[43m(\u001b[49m\u001b[43m)\u001b[49m\n\u001b[32m    548\u001b[39m         all_embeddings.extend(embeddings)\n\u001b[32m    550\u001b[39m all_embeddings = [all_embeddings[idx] \u001b[38;5;28;01mfor\u001b[39;00m idx \u001b[38;5;129;01min\u001b[39;00m np.argsort(length_sorted_idx)]\n",
      "\u001b[31mKeyboardInterrupt\u001b[39m: "
     ]
    }
   ],
   "source": [
    "from sentence_transformers import SentenceTransformer\n",
    "\n",
    "model = SentenceTransformer(\"pritamdeka/BioBERT-mnli-snli-scinli-scitail-mednli-stsb\")\n",
    "\n",
    "# Embeddings de los sinónimos\n",
    "texts = syn_df[\"concept_synonym_name\"].tolist()\n",
    "embeddings = model.encode(texts, show_progress_bar=True)\n"
   ]
  },
  {
   "cell_type": "code",
   "execution_count": null,
   "metadata": {},
   "outputs": [],
   "source": [
    "import faiss\n",
    "import numpy as np\n",
    "\n",
    "# Convertir a float32 para FAISS\n",
    "embeddings = np.array(embeddings).astype(\"float32\")\n",
    "\n",
    "# Crear el índice (flat L2 por simplicidad)\n",
    "index = faiss.IndexFlatL2(embeddings.shape[1])\n",
    "index.add(embeddings)\n",
    "\n",
    "# Guardar referencia de qué índice corresponde a qué concepto\n",
    "concept_ids = syn_df[\"concept_id\"].tolist()"
   ]
  },
  {
   "cell_type": "code",
   "execution_count": null,
   "metadata": {},
   "outputs": [],
   "source": [
    "def search_description(text_query, k=5):\n",
    "    vec = model.encode([text_query]).astype(\"float32\")\n",
    "    distances, indices = index.search(vec, k)\n",
    "    results = []\n",
    "\n",
    "    for idx in indices[0]:\n",
    "        cid = concept_ids[idx]\n",
    "        synonym = syn_df.iloc[idx][\"concept_synonym_name\"]\n",
    "        results.append((cid, synonym))\n",
    "\n",
    "    return results\n"
   ]
  },
  {
   "cell_type": "code",
   "execution_count": null,
   "metadata": {},
   "outputs": [],
   "source": [
    "search_description(\"lower inner quadrant of breast\")\n"
   ]
  },
  {
   "cell_type": "code",
   "execution_count": 18,
   "metadata": {},
   "outputs": [
    {
     "name": "stderr",
     "output_type": "stream",
     "text": [
      "huggingface/tokenizers: The current process just got forked, after parallelism has already been used. Disabling parallelism to avoid deadlocks...\n",
      "To disable this warning, you can either:\n",
      "\t- Avoid using `tokenizers` before the fork if possible\n",
      "\t- Explicitly set the environment variable TOKENIZERS_PARALLELISM=(true | false)\n"
     ]
    }
   ],
   "source": [
    "!pip freeze > requirements.txt"
   ]
  },
  {
   "cell_type": "code",
   "execution_count": null,
   "metadata": {},
   "outputs": [],
   "source": [
    "pip "
   ]
  }
 ],
 "metadata": {
  "kernelspec": {
   "display_name": "TFG_CDIA",
   "language": "python",
   "name": "python3"
  },
  "language_info": {
   "codemirror_mode": {
    "name": "ipython",
    "version": 3
   },
   "file_extension": ".py",
   "mimetype": "text/x-python",
   "name": "python",
   "nbconvert_exporter": "python",
   "pygments_lexer": "ipython3",
   "version": "3.12.9"
  }
 },
 "nbformat": 4,
 "nbformat_minor": 2
}
